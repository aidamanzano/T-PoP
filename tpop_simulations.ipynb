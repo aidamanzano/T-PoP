{
 "cells": [
  {
   "cell_type": "code",
   "execution_count": 1,
   "metadata": {},
   "outputs": [],
   "source": [
    "import numpy as np\n",
    "import car_class as c\n",
    "import environment_class as e\n",
    "import initialiser_functions as i\n",
    "import tpop as t\n"
   ]
  },
  {
   "cell_type": "code",
   "execution_count": 4,
   "metadata": {},
   "outputs": [],
   "source": [
    "depth = 2\n",
    "witness_number_per_depth = [2, 2]\n",
    "London = e.Environment([0,1], [0,1], 0.5)\n",
    "\n",
    "n = 1000\n",
    "p = 1\n",
    "q = 0\n",
    "number_of_simulations = 100\n",
    "car_list = []\n",
    "car_list = i.cars_init(n, p, q, car_list, London)\n",
    "print(car_list)\n",
    "\n",
    "for car in car_list:\n",
    "    print(car.honest, car.coerced)\n",
    "\n",
    "e.environment_update(car_list, 0.001, London)\n",
    "for car in car_list:\n",
    "    t.tpop(car, depth, witness_number_per_depth)\n",
    "    True_Positive, True_Negative, False_Positive, False_Negative, True_Positive_cars, True_Negative_cars, False_Positive_cars, False_Negative_cars = t.results(car_list)\n",
    "\n",
    "print(True_Positive, True_Negative, False_Positive, False_Negative)\n",
    "#Tpop is depth 2 nw = [2, 2]\n",
    "# npol is depth 1 nw = all neighbours (or density)\n",
    "#hard code the number of neighbours of each car for NPoL\n"
   ]
  }
 ],
 "metadata": {
  "kernelspec": {
   "display_name": "Python 3",
   "language": "python",
   "name": "python3"
  },
  "language_info": {
   "codemirror_mode": {
    "name": "ipython",
    "version": 3
   },
   "file_extension": ".py",
   "mimetype": "text/x-python",
   "name": "python",
   "nbconvert_exporter": "python",
   "pygments_lexer": "ipython3",
   "version": "3.9.15"
  },
  "orig_nbformat": 4,
  "vscode": {
   "interpreter": {
    "hash": "a665b5d41d17b532ea9890333293a1b812fa0b73c9c25c950b3cedf1bebd0438"
   }
  }
 },
 "nbformat": 4,
 "nbformat_minor": 2
}
