{
 "cells": [
  {
   "cell_type": "code",
   "execution_count": 1,
   "metadata": {},
   "outputs": [],
   "source": [
    "import simulation_functions as sim\n",
    "import visualisation_functions as v\n",
    "import numpy as np"
   ]
  },
  {
   "cell_type": "code",
   "execution_count": null,
   "metadata": {},
   "outputs": [],
   "source": [
    "import os\n",
    "number_of_cars = 1000\n",
    "target_path = '/Percent of lying cars/new simulations/'\n",
    "cwd = os.getcwd()\n",
    "print(cwd + target_path)\n",
    "simulation_id = 0\n",
    "\n",
    "f = open(\"newDISHONEST_cars_simulation_pathfiles.txt\", \"w+\")\n",
    "\n",
    "path = sim.make_directory(target_path)\n",
    "\n",
    "for percent in range(0, 110, 10):\n",
    "    \n",
    "    lying_cars = percent/100 * number_of_cars\n",
    "    print('lying cars: ',lying_cars, 'percentage', percent/100)\n",
    "    honest_and_coerced = np.round((1 - (percent/100)), 2) * number_of_cars\n",
    "    print('honest and coerced: ',honest_and_coerced, 'percentage', np.round((1 - (percent/100)), 2))\n",
    "\n",
    "    for value in range(0, int(honest_and_coerced) + 10, 100):\n",
    "\n",
    "        honest_cars = honest_and_coerced - value\n",
    "        print('honest cars: ',honest_cars)\n",
    "\n",
    "        coerced_cars = value\n",
    "        print('coerced cars: ',coerced_cars)\n",
    "    \n",
    "        number_of_simulations = 100\n",
    "        interest_variable = 1\n",
    "        variable_list = [coerced_cars, lying_cars, honest_cars]\n",
    "\n",
    "        simulation_id += 1\n",
    "        sim_df = sim.aPoL_simulation(number_of_simulations, int(coerced_cars), int(lying_cars), int(honest_cars), interest_variable, variable_list)\n",
    "\n",
    "        sim_pathfile = sim.save_simulation(sim_df, path, str(simulation_id) + 'lying_cars' + str(lying_cars))\n",
    "\n",
    "        print('pathfile =', sim_pathfile)\n",
    "        f=open(\"newDISHONEST_cars_simulation_pathfiles.txt\", \"a+\")\n",
    "        f.write(sim_pathfile+'\\n')\n",
    "        f.close()"
   ]
  },
  {
   "cell_type": "code",
   "execution_count": null,
   "metadata": {},
   "outputs": [],
   "source": [
    "directory_pathfile = '/Users/amm3117/Desktop/Proof-of-Location/Proof-of-Location/Percent of lying cars/new simulations/'\n",
    "sim.full_csv(directory_pathfile)\n",
    "\n",
    "v.simulation_box_plots('Collaborative ', 100, directory_pathfile+'full_data.csv', 'Percent of lying cars', 'Accuracy')\n",
    "v.subplots('Collaborative ', directory_pathfile, 100, 'Percent of lying cars')\n",
    "#v.simulation_violin_plots('Collaborative ', 100, directory_pathfile+'full_data.csv', 'Percent of honest cars', 'Accuracy')"
   ]
  },
  {
   "cell_type": "code",
   "execution_count": null,
   "metadata": {},
   "outputs": [],
   "source": [
    "\n",
    "fig, ax = plt.subplots()\n",
    "CS = ax.contour(X, Y, Z)"
   ]
  },
  {
   "cell_type": "code",
   "execution_count": null,
   "metadata": {},
   "outputs": [],
   "source": [
    "import os\n",
    "number_of_cars = 1000\n",
    "target_path = '/Percent of honest cars/new simulations/'\n",
    "cwd = os.getcwd()\n",
    "print(cwd + target_path)\n",
    "simulation_id = 0\n",
    "\n",
    "f = open(\"newHONEST_cars_simulation_pathfiles.txt\", \"w+\")\n",
    "\n",
    "path = sim.make_directory(target_path)\n",
    "\n",
    "for percent in range(0, 110, 10):\n",
    "    \n",
    "    honest_cars = percent/100 * number_of_cars\n",
    "    print('honest cars: ',honest_cars, 'percentage', percent/100)\n",
    "    lying_and_coerced = np.round((1 - (percent/100)), 2) * number_of_cars\n",
    "    print('lying and coerced: ',lying_and_coerced, 'percentage', np.round((1 - (percent/100)), 2))\n",
    "\n",
    "    for value in range(0, int(lying_and_coerced) + 10, 100):\n",
    "\n",
    "        lying_cars = lying_and_coerced - value\n",
    "        print('lying cars: ', lying_cars)\n",
    "\n",
    "        coerced_cars = value\n",
    "        print('coerced cars: ', coerced_cars)\n",
    "    \n",
    "        number_of_simulations = 100\n",
    "        interest_variable = 2\n",
    "        variable_list = [coerced_cars, lying_cars, honest_cars]\n",
    "\n",
    "        simulation_id += 1\n",
    "        sim_df = sim.aPoL_simulation(number_of_simulations, int(coerced_cars), int(lying_cars), int(honest_cars), interest_variable, variable_list)\n",
    "\n",
    "        sim_pathfile = sim.save_simulation(sim_df, path, str(simulation_id) + 'honest_cars' + str(honest_cars)) #TODO: should re run, i realised this too late\n",
    "\n",
    "        print('pathfile =', sim_pathfile)\n",
    "        f=open(\"newHONEST_cars_simulation_pathfiles.txt\", \"a+\")\n",
    "        f.write(sim_pathfile+'\\n')\n",
    "        f.close()"
   ]
  },
  {
   "cell_type": "code",
   "execution_count": null,
   "metadata": {},
   "outputs": [],
   "source": [
    "directory_pathfile = '/Users/amm3117/Desktop/Proof-of-Location/Proof-of-Location/Percent of honest cars/new simulations/'\n",
    "sim.full_csv(directory_pathfile)\n",
    "\n",
    "v.simulation_box_plots('Collaborative ', 100, directory_pathfile+'full_data.csv', 'Percent of honest cars', 'Accuracy')\n",
    "v.subplots('Collaborative ', directory_pathfile, 100, 'Percent of honest cars')\n",
    "#v.simulation_violin_plots('Collaborative ', 100, directory_pathfile+'full_data.csv', 'Percent of honest cars', 'Accuracy')"
   ]
  }
 ],
 "metadata": {
  "kernelspec": {
   "display_name": "Python 3",
   "language": "python",
   "name": "python3"
  },
  "language_info": {
   "codemirror_mode": {
    "name": "ipython",
    "version": 3
   },
   "file_extension": ".py",
   "mimetype": "text/x-python",
   "name": "python",
   "nbconvert_exporter": "python",
   "pygments_lexer": "ipython3",
   "version": "3.9.15"
  },
  "orig_nbformat": 4,
  "vscode": {
   "interpreter": {
    "hash": "a665b5d41d17b532ea9890333293a1b812fa0b73c9c25c950b3cedf1bebd0438"
   }
  }
 },
 "nbformat": 4,
 "nbformat_minor": 2
}
