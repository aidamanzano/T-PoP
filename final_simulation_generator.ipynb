{
 "cells": [
  {
   "cell_type": "code",
   "execution_count": 1,
   "metadata": {},
   "outputs": [],
   "source": [
    "import simulation_functions as sim\n",
    "import visualisation_functions as v\n",
    "import numpy as np\n"
   ]
  },
  {
   "attachments": {},
   "cell_type": "markdown",
   "metadata": {},
   "source": [
    "## Simulating the Aida Proof of Location Algorithm"
   ]
  },
  {
   "attachments": {},
   "cell_type": "markdown",
   "metadata": {},
   "source": [
    "### Honest cars simulation with Aida PoL algorithm.\n",
    "\n",
    "First, we loop through varying percentages of honest cars, starting from 0 to 100%. \n",
    "Then, we evenly assign the number of remaining cars between coerced and lying cars.\n",
    "\n",
    "We pick how many simulations we want to run for each percent of honest cars, in this case 100.\n",
    "The results are individually saved to a text file, named after the absolute number of honest cars."
   ]
  },
  {
   "cell_type": "code",
   "execution_count": null,
   "metadata": {},
   "outputs": [],
   "source": [
    "number_of_cars = 1000\n",
    "\n",
    "f = open(\"honest_cars_simulation_pathfiles.txt\", \"w+\")\n",
    "for percent in range(0, 110, 10):\n",
    "    \n",
    "    honest_cars = int((percent/100) * number_of_cars)\n",
    "    remanining_cars = number_of_cars - honest_cars\n",
    "    coerced_cars = int(remanining_cars/2)\n",
    "    lying_cars = int(remanining_cars/2)\n",
    "    \n",
    "    number_of_simulations = 100\n",
    "    interest_variable = 2\n",
    "    variable_list = [coerced_cars, lying_cars, honest_cars]\n",
    "\n",
    "    sim_pathfile, totalCars= sim.aPoL_simulation_generator(number_of_simulations, coerced_cars, lying_cars, honest_cars, interest_variable, variable_list)\n",
    "    f=open(\"honest_cars_simulation_pathfiles.txt\", \"a+\")\n",
    "    f.write(sim_pathfile+'\\n')\n",
    "    f.close()\n"
   ]
  },
  {
   "attachments": {},
   "cell_type": "markdown",
   "metadata": {},
   "source": [
    "## Visualisation of honest cars simulation"
   ]
  },
  {
   "attachments": {},
   "cell_type": "markdown",
   "metadata": {},
   "source": [
    "First we provide the pathfile containing our simulation text files. \n",
    "We generate the full csv of all the simulations\n",
    "\n",
    "Then visualise the results as desired.\n",
    "Refer to `visualisation_functions.py` to find available options."
   ]
  },
  {
   "cell_type": "code",
   "execution_count": null,
   "metadata": {},
   "outputs": [],
   "source": [
    "directory_pathfile = '/Users/amm3117/Desktop/Proof-of-Location/Proof-of-Location/Percent of honest cars/'\n",
    "sim.full_csv(directory_pathfile)\n",
    "\n",
    "v.simulation_box_plots('Collaborative ', 100, directory_pathfile+'full_data.csv', 'Percent of honest cars', 'Accuracy')\n",
    "v.subplots('Collaborative ', directory_pathfile, 100, 'Percent of honest cars')\n",
    "#v.simulation_violin_plots('Collaborative ', 100, directory_pathfile+'full_data.csv', 'Percent of honest cars', 'Accuracy')"
   ]
  },
  {
   "attachments": {},
   "cell_type": "markdown",
   "metadata": {},
   "source": [
    "### Coerced cars simulation with Aida PoL algorithm.\n",
    "\n",
    "First, we loop through varying percentages of coerced cars, starting from 0 to 100%. \n",
    "Then, we evenly assign the number of remaining cars between honest and lying cars.\n",
    "\n",
    "We pick how many simulations we want to run for each percent of honest cars, in this case 100.\n",
    "The results are individually saved to a text file, named after the absolute number of coerced cars."
   ]
  },
  {
   "cell_type": "code",
   "execution_count": null,
   "metadata": {},
   "outputs": [],
   "source": [
    "number_of_cars = 1000\n",
    "\n",
    "f = open(\"coerced_cars_simulation_pathfiles.txt\", \"w+\")\n",
    "for percent in range(0, 110, 10):\n",
    "    \n",
    "    coerced_cars = int((percent/100) * number_of_cars)\n",
    "    remanining_cars = number_of_cars - coerced_cars\n",
    "    honest_cars = int(remanining_cars/2)\n",
    "    lying_cars = int(remanining_cars/2)\n",
    "    \n",
    "    number_of_simulations = 100\n",
    "    interest_variable = 0\n",
    "    variable_list = [coerced_cars, lying_cars, honest_cars]\n",
    "\n",
    "    sim_pathfile, totalCars= sim.aPoL_simulation_generator(number_of_simulations, coerced_cars, lying_cars, honest_cars, interest_variable, variable_list)\n",
    "    f=open(\"coerced_cars_simulation_pathfiles.txt\", \"a+\")\n",
    "    f.write(sim_pathfile+'\\n')\n",
    "    f.close()\n"
   ]
  },
  {
   "attachments": {},
   "cell_type": "markdown",
   "metadata": {},
   "source": [
    "## Visualisaton of coerced cars simulation"
   ]
  },
  {
   "cell_type": "code",
   "execution_count": null,
   "metadata": {},
   "outputs": [],
   "source": [
    "directory_pathfile = '/Users/amm3117/Desktop/Proof-of-Location/Proof-of-Location/Percent of coerced cars/'\n",
    "sim.full_csv(directory_pathfile)\n",
    "\n",
    "\n",
    "v.simulation_box_plots('Collaborative ', 100, directory_pathfile+'full_data.csv', 'Percent of coerced cars', 'Accuracy')\n",
    "v.subplots('Collaborative ', directory_pathfile, 100, 'Percent of coerced cars')\n",
    "#v.simulation_violin_plots('Collaborative ', 100, directory_pathfile+'full_data.csv', 'Percent of coerced cars', 'Accuracy')"
   ]
  },
  {
   "attachments": {},
   "cell_type": "markdown",
   "metadata": {},
   "source": [
    "### Lying cars simulation with Aida PoL algorithm.\n",
    "\n",
    "First, we loop through varying percentages of lying cars, starting from 0 to 100%. \n",
    "Then, we evenly assign the number of remaining cars between honest and coerced cars.\n",
    "\n",
    "We pick how many simulations we want to run for each percent of lying cars, in this case 100.\n",
    "The results are individually saved to a text file, named after the absolute number of lying cars."
   ]
  },
  {
   "cell_type": "code",
   "execution_count": null,
   "metadata": {},
   "outputs": [],
   "source": [
    "number_of_cars = 1000\n",
    "\n",
    "f = open(\"lying_cars_simulation_pathfiles.txt\", \"w+\")\n",
    "for percent in range(0, 110, 10):\n",
    "    \n",
    "    lying_cars = int((percent/100) * number_of_cars)\n",
    "    remanining_cars = number_of_cars - lying_cars\n",
    "    honest_cars = int(remanining_cars/2)\n",
    "    coerced_cars = int(remanining_cars/2)\n",
    "    \n",
    "    number_of_simulations = 100\n",
    "    interest_variable = 1\n",
    "    variable_list = [coerced_cars, lying_cars, honest_cars]\n",
    "\n",
    "    sim_pathfile, totalCars= sim.aPoL_simulation_generator(number_of_simulations, coerced_cars, lying_cars, honest_cars, interest_variable, variable_list)\n",
    "    f=open(\"lying_cars_simulation_pathfiles.txt\", \"a+\")\n",
    "    f.write(sim_pathfile+'\\n')\n",
    "    f.close()\n"
   ]
  },
  {
   "attachments": {},
   "cell_type": "markdown",
   "metadata": {},
   "source": [
    "## Visualisation of lying cars simulation"
   ]
  },
  {
   "cell_type": "code",
   "execution_count": null,
   "metadata": {},
   "outputs": [],
   "source": [
    "directory_pathfile = '/Users/amm3117/Desktop/Proof-of-Location/Proof-of-Location/Percent of lying cars/'\n",
    "sim.full_csv(directory_pathfile)\n",
    "\n",
    "\n",
    "v.simulation_box_plots('Collaborative ', 100, directory_pathfile+'full_data.csv', 'Percent of lying cars', 'Accuracy')\n",
    "v.subplots('Collaborative ', directory_pathfile, 100, 'Percent of lying cars')\n",
    "#v.simulation_violin_plots('Collaborative ', 100, directory_pathfile+'full_data.csv', 'Percent of lying cars', 'Accuracy') "
   ]
  },
  {
   "attachments": {},
   "cell_type": "markdown",
   "metadata": {},
   "source": [
    "## Simulating the Naive Proof of Location Algorithm"
   ]
  },
  {
   "attachments": {},
   "cell_type": "markdown",
   "metadata": {},
   "source": [
    "The Naive Proof of Location algorithm works as follows:\n",
    "1. Every car constructs a list of witnesses (neighbours). These are other cars that are within its range of sight.\n",
    "2. The prover car commits to their position.\n",
    "3. They name their witnesses\n",
    "4. Each witness must then respond as to whether they see the prover or not. \n",
    "5. The prover receives a score. Their score = number of witnesses that see the prover / number of witnesses the prover named. \n",
    "6. If their score > a given threshold, the car is considered honest. Otherwise it is considered dishonest.\n"
   ]
  },
  {
   "attachments": {},
   "cell_type": "markdown",
   "metadata": {},
   "source": [
    "## Honest cars simulation with Naive Proof of Location protocol. \n",
    "\n",
    "First, we loop through varying percentages of honest cars, starting from 0 to 100%. \n",
    "Then, we evenly assign the number of remaining cars between coerced and lying cars.\n",
    "\n",
    "We pick how many simulations we want to run for each percent of honest cars, in this case 100.\n",
    "The results are individually saved to a text file, named after the absolute number of honest cars."
   ]
  },
  {
   "cell_type": "code",
   "execution_count": null,
   "metadata": {},
   "outputs": [],
   "source": [
    "number_of_cars = 1000\n",
    "\n",
    "f = open(\"naivePoL_honest_cars_simulation_pathfiles.txt\", \"w+\")\n",
    "for percent in range(0, 110, 10):\n",
    "    \n",
    "    honest_cars = int((percent/100) * number_of_cars)\n",
    "    remanining_cars = number_of_cars - honest_cars\n",
    "    lying_cars = int(remanining_cars/2)\n",
    "    coerced_cars = int(remanining_cars/2)\n",
    "    \n",
    "    number_of_simulations = 100\n",
    "    interest_variable = 2\n",
    "    variable_list = [coerced_cars, lying_cars, honest_cars]\n",
    "\n",
    "    sim_pathfile, totalCars= sim.npol_simulation_generator(number_of_simulations, coerced_cars, lying_cars, honest_cars, interest_variable, variable_list, 0.5)\n",
    "    f=open(\"naivePoL_honest_cars_simulation_pathfiles.txt\", \"a+\")\n",
    "    f.write(sim_pathfile+'\\n')\n",
    "    f.close()\n",
    "\n",
    "#TODO: increase threshold and number of coerced cars"
   ]
  },
  {
   "attachments": {},
   "cell_type": "markdown",
   "metadata": {},
   "source": [
    "## Visualisation of honest cars simulation with Naive PoL\n",
    "\n",
    "First we provide the pathfile containing our simulation text files. \n",
    "We generate the full csv of all the simulations\n",
    "\n",
    "Then visualise the results as desired.\n",
    "Refer to `visualisation_functions.py` to find available options."
   ]
  },
  {
   "cell_type": "code",
   "execution_count": null,
   "metadata": {},
   "outputs": [],
   "source": [
    "directory_pathfile = '/Users/amm3117/Desktop/Proof-of-Location/Proof-of-Location/naivePoL/Percent of honest cars/'\n",
    "sim.full_csv(directory_pathfile)\n",
    "\n",
    "\n",
    "v.simulation_box_plots('Naive ', 100, directory_pathfile+'full_data.csv', 'Percent of honest cars', 'Accuracy')\n",
    "v.subplots('Naive ', directory_pathfile, 100, 'Percent of honest cars')"
   ]
  },
  {
   "attachments": {},
   "cell_type": "markdown",
   "metadata": {},
   "source": [
    "## Coerced cars simulation with Naive PoL algorithm.\n",
    "\n",
    "First, we loop through varying percentages of coerced cars, starting from 0 to 100%. \n",
    "Then, we evenly assign the number of remaining cars between honest and lying cars.\n",
    "\n",
    "We pick how many simulations we want to run for each percent of honest cars, in this case 100.\n",
    "The results are individually saved to a text file, named after the absolute number of coerced cars.\n"
   ]
  },
  {
   "cell_type": "code",
   "execution_count": null,
   "metadata": {},
   "outputs": [],
   "source": [
    "number_of_cars = 1000\n",
    "\n",
    "f = open(\"naivePoL_coerced_cars_simulation_pathfiles.txt\", \"w+\")\n",
    "for percent in range(0, 110, 10):\n",
    "    \n",
    "    coerced_cars = int((percent/100) * number_of_cars)\n",
    "    remanining_cars = number_of_cars - coerced_cars\n",
    "    lying_cars = int(remanining_cars/2)\n",
    "    honest_cars = int(remanining_cars/2)\n",
    "    \n",
    "    number_of_simulations = 100\n",
    "    interest_variable = 0\n",
    "    variable_list = [coerced_cars, lying_cars, honest_cars]\n",
    "\n",
    "    sim_pathfile, totalCars= sim.npol_simulation_generator(number_of_simulations, coerced_cars, lying_cars, honest_cars, interest_variable, variable_list, 0.5)\n",
    "    f=open(\"naivePoL_coerced_cars_simulation_pathfiles.txt\", \"a+\")\n",
    "    f.write(sim_pathfile+'\\n')\n",
    "    f.close()\n"
   ]
  },
  {
   "attachments": {},
   "cell_type": "markdown",
   "metadata": {},
   "source": [
    "## Visualisation of coerced cars simulation with Naive PoL\n",
    "\n",
    "First we provide the pathfile containing our simulation text files. \n",
    "We generate the full csv of all the simulations\n",
    "\n",
    "Then visualise the results as desired."
   ]
  },
  {
   "cell_type": "code",
   "execution_count": null,
   "metadata": {},
   "outputs": [],
   "source": [
    "directory_pathfile = '/Users/amm3117/Desktop/Proof-of-Location/Proof-of-Location/naivePoL/Percent of coerced cars/'\n",
    "sim.full_csv(directory_pathfile)\n",
    "\n",
    "\n",
    "v.simulation_box_plots('Naive ', 100, directory_pathfile+'full_data.csv', 'Percent of coerced cars', 'Accuracy')\n",
    "v.subplots('Naive ', directory_pathfile, 100, 'Percent of coerced cars')"
   ]
  },
  {
   "attachments": {},
   "cell_type": "markdown",
   "metadata": {},
   "source": [
    "## Lying cars simulation with Naive PoL algorithm.\n",
    "\n",
    "First, we loop through varying percentages of lying cars, starting from 0 to 100%. \n",
    "Then, we evenly assign the number of remaining cars between honest and coerced cars.\n",
    "\n",
    "We pick how many simulations we want to run for each percent of honest cars, in this case 100.\n",
    "The results are individually saved to a text file, named after the absolute number of lying cars."
   ]
  },
  {
   "cell_type": "code",
   "execution_count": null,
   "metadata": {},
   "outputs": [],
   "source": [
    "number_of_cars = 1000\n",
    "\n",
    "f = open(\"naivePoL_lying_cars_simulation_pathfiles.txt\", \"w+\")\n",
    "for percent in range(0, 110, 10):\n",
    "    \n",
    "    lying_cars = int((percent/100) * number_of_cars)\n",
    "    remanining_cars = number_of_cars - lying_cars\n",
    "    coerced_cars = int(remanining_cars/2)\n",
    "    honest_cars = int(remanining_cars/2)\n",
    "    \n",
    "    number_of_simulations = 100\n",
    "    interest_variable = 1\n",
    "    variable_list = [coerced_cars, lying_cars, honest_cars]\n",
    "\n",
    "    sim_pathfile, totalCars= sim.npol_simulation_generator(number_of_simulations, coerced_cars, lying_cars, honest_cars, interest_variable, variable_list, 1)\n",
    "    f=open(\"naivePoL_lying_cars_simulation_pathfiles.txt\", \"a+\")\n",
    "    f.write(sim_pathfile+'\\n')\n",
    "    f.close()"
   ]
  },
  {
   "cell_type": "code",
   "execution_count": null,
   "metadata": {},
   "outputs": [],
   "source": [
    "import os\n",
    "number_of_cars = 1000\n",
    "target_path = '/Percent of honest cars/new simulations/'\n",
    "cwd = os.getcwd()\n",
    "print(cwd + target_path)\n",
    "simulation_id = 0\n",
    "\n",
    "f = open(\"newHONEST_cars_simulation_pathfiles.txt\", \"w+\")\n",
    "\n",
    "path = sim.make_directory(target_path)\n",
    "\n",
    "for percent in range(0, 110, 10):\n",
    "    \n",
    "    honest_cars = percent/100 * number_of_cars\n",
    "    print('honest cars: ',honest_cars, 'percentage', percent/100)\n",
    "    lying_and_coerced = np.round((1 - (percent/100)), 2) * number_of_cars\n",
    "    print('lying and coerced: ',lying_and_coerced, 'percentage', np.round((1 - (percent/100)), 2))\n",
    "\n",
    "    for value in range(0, int(lying_and_coerced) + 10, 100):\n",
    "\n",
    "        lying_cars = lying_and_coerced - value\n",
    "        print('lying cars: ', lying_cars)\n",
    "\n",
    "        coerced_cars = value\n",
    "        print('coerced cars: ', coerced_cars)\n",
    "    \n",
    "        number_of_simulations = 100\n",
    "        interest_variable = 2\n",
    "        variable_list = [coerced_cars, lying_cars, honest_cars]\n",
    "\n",
    "        simulation_id += 1\n",
    "        sim_df = sim.aPoL_simulation(number_of_simulations, int(coerced_cars), int(lying_cars), int(honest_cars), interest_variable, variable_list)\n",
    "\n",
    "        sim_pathfile = sim.save_simulation(sim_df, path, str(simulation_id) + 'honest_cars' + str(honest_cars)) #TODO: should re run, i realised this too late\n",
    "\n",
    "        print('pathfile =', sim_pathfile)\n",
    "        f=open(\"newHONEST_cars_simulation_pathfiles.txt\", \"a+\")\n",
    "        f.write(sim_pathfile+'\\n')\n",
    "        f.close()"
   ]
  },
  {
   "attachments": {},
   "cell_type": "markdown",
   "metadata": {},
   "source": [
    "## Visualisation of lying cars simulation with Naive PoL\n",
    "\n",
    "First we provide the pathfile containing our simulation text files. \n",
    "We generate the full csv of all the simulations\n",
    "\n",
    "Then visualise the results as desired."
   ]
  },
  {
   "cell_type": "code",
   "execution_count": null,
   "metadata": {},
   "outputs": [],
   "source": [
    "directory_pathfile = '/Users/amm3117/Desktop/T-PoP/naivePoL/Percent of lying cars/'\n",
    "sim.full_csv(directory_pathfile)\n",
    "\n",
    "\n",
    "v.simulation_box_plots('Naive ', 100, directory_pathfile+'full_data.csv', 'Percent of lying cars', 'Accuracy')\n",
    "v.subplots('Naive ', directory_pathfile, 100, 'Percent of lying cars')"
   ]
  }
 ],
 "metadata": {
  "kernelspec": {
   "display_name": "Python 3",
   "language": "python",
   "name": "python3"
  },
  "language_info": {
   "codemirror_mode": {
    "name": "ipython",
    "version": 3
   },
   "file_extension": ".py",
   "mimetype": "text/x-python",
   "name": "python",
   "nbconvert_exporter": "python",
   "pygments_lexer": "ipython3",
   "version": "3.9.15"
  },
  "orig_nbformat": 4,
  "vscode": {
   "interpreter": {
    "hash": "a665b5d41d17b532ea9890333293a1b812fa0b73c9c25c950b3cedf1bebd0438"
   }
  }
 },
 "nbformat": 4,
 "nbformat_minor": 2
}
